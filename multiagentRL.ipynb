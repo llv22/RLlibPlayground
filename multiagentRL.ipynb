{
 "cells": [
  {
   "cell_type": "code",
   "execution_count": null,
   "metadata": {},
   "outputs": [],
   "source": [
    "import ray\n",
    "import ray.rllib.agents.ppo as ppo\n",
    "from ray.tune.logger import pretty_print"
   ]
  },
  {
   "cell_type": "code",
   "execution_count": null,
   "metadata": {
    "scrolled": true
   },
   "outputs": [],
   "source": [
    "ray.init()"
   ]
  },
  {
   "cell_type": "code",
   "execution_count": null,
   "metadata": {},
   "outputs": [],
   "source": [
    "env = MultiAgentTrafficEnv(num_cars=20, num_traffic_lights=5)"
   ]
  },
  {
   "cell_type": "code",
   "execution_count": null,
   "metadata": {},
   "outputs": [],
   "source": [
    "# https://rise.cs.berkeley.edu/blog/scaling-multi-agent-rl-with-rllib/\n",
    "# https://ray.readthedocs.io/en/latest/rllib-env.html?highlight=%27PGAgent%27\n",
    "# https://github.com/ray-project/ray/blob/master/python/ray/rllib/examples/multiagent_cartpole.py\n",
    "trainer = pg.PGAgent(env=\"my_multiagent_env\", config={\n",
    "    \"multiagent\": {\n",
    "        \"policy_graphs\": {\n",
    "            \"car1\": (PGPolicyGraph, car_obs_space, car_act_space, {\"gamma\": 0.85}),\n",
    "            \"car2\": (PGPolicyGraph, car_obs_space, car_act_space, {\"gamma\": 0.99}),\n",
    "            \"traffic_light\": (PGPolicyGraph, tl_obs_space, tl_act_space, {}),\n",
    "        },\n",
    "        \"policy_mapping_fn\": {\n",
    "            lambda agent_id:\n",
    "                \"traffic_light\"  # Traffic lights are always controlled by this policy\n",
    "                if agent_id.startswith(\"traffic_light_\")\n",
    "                else random.choice([\"car1\", \"car2\"])  # Randomly choose from car policies\n",
    "        },\n",
    "    },\n",
    "})"
   ]
  },
  {
   "cell_type": "code",
   "execution_count": null,
   "metadata": {},
   "outputs": [],
   "source": [
    "while True:\n",
    "    print(trainer.train())"
   ]
  }
 ],
 "metadata": {
  "jupytext": {
   "formats": "ipynb,py:light",
   "text_representation": {
    "extension": ".py",
    "format_name": "light",
    "format_version": "1.3",
    "jupytext_version": "0.8.2"
   }
  },
  "kernelspec": {
   "display_name": "Python 3",
   "language": "python",
   "name": "python3"
  },
  "language_info": {
   "codemirror_mode": {
    "name": "ipython",
    "version": 3
   },
   "file_extension": ".py",
   "mimetype": "text/x-python",
   "name": "python",
   "nbconvert_exporter": "python",
   "pygments_lexer": "ipython3",
   "version": "3.6.7"
  }
 },
 "nbformat": 4,
 "nbformat_minor": 2
}
