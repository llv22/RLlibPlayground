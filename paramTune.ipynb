{
 "cells": [
  {
   "cell_type": "code",
   "execution_count": null,
   "metadata": {},
   "outputs": [],
   "source": [
    "import ray\n",
    "import ray.tune as tune"
   ]
  },
  {
   "cell_type": "code",
   "execution_count": null,
   "metadata": {},
   "outputs": [],
   "source": [
    "ray.init()"
   ]
  },
  {
   "cell_type": "code",
   "execution_count": null,
   "metadata": {},
   "outputs": [],
   "source": [
    "# https://ray.readthedocs.io/en/latest/rllib-algorithms.html?highlight=config%20sgd_stepsize\n",
    "tune.run_experiments({\n",
    "    \"my_experiment\": {\n",
    "        \"run\": \"PPO\",\n",
    "        \"env\": \"CartPole-v0\",\n",
    "        \"stop\": {\"episode_reward_mean\": 200},\n",
    "        \"config\": {\n",
    "            \"num_gpus\": 0,\n",
    "            \"num_workers\": 1,\n",
    "            # Stepsize of SGD\n",
    "            \"lr\": tune.grid_search([0.01, 0.001, 0.0001]),\n",
    "#             \"sgd_stepsize\": tune.grid_search([0.01, 0.001, 0.0001]),\n",
    "        },\n",
    "    },\n",
    "})"
   ]
  },
  {
   "cell_type": "code",
   "execution_count": null,
   "metadata": {},
   "outputs": [],
   "source": []
  }
 ],
 "metadata": {
  "jupytext": {
   "formats": "ipynb,py:light",
   "text_representation": {
    "extension": ".py",
    "format_name": "light",
    "format_version": "1.3",
    "jupytext_version": "0.8.2"
   }
  },
  "kernelspec": {
   "display_name": "Python 3",
   "language": "python",
   "name": "python3"
  },
  "language_info": {
   "codemirror_mode": {
    "name": "ipython",
    "version": 3
   },
   "file_extension": ".py",
   "mimetype": "text/x-python",
   "name": "python",
   "nbconvert_exporter": "python",
   "pygments_lexer": "ipython3",
   "version": "3.6.7"
  }
 },
 "nbformat": 4,
 "nbformat_minor": 2
}
